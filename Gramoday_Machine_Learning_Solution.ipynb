{
 "cells": [
  {
   "cell_type": "markdown",
   "metadata": {},
   "source": [
    "# Fetching the Data"
   ]
  },
  {
   "cell_type": "markdown",
   "metadata": {},
   "source": [
    "##### Due to some technical complications, I only fetched the data given on the front page of the website after using the filters. More on this in the word document."
   ]
  },
  {
   "cell_type": "code",
   "execution_count": 52,
   "metadata": {},
   "outputs": [
    {
     "name": "stdout",
     "output_type": "stream",
     "text": [
      "    Sl no. District Name Market Name Commodity Variety Grade  \\\n",
      "0      1.0          Agra     Achnera    Potato    Desi   FAQ   \n",
      "1      2.0          Agra     Achnera    Potato    Desi   FAQ   \n",
      "2      3.0          Agra     Achnera    Potato    Desi   FAQ   \n",
      "3      4.0          Agra     Achnera    Potato    Desi   FAQ   \n",
      "4      5.0          Agra     Achnera    Potato    Desi   FAQ   \n",
      "5      6.0          Agra     Achnera    Potato    Desi   FAQ   \n",
      "6      7.0          Agra     Achnera    Potato    Desi   FAQ   \n",
      "7      8.0          Agra     Achnera    Potato    Desi   FAQ   \n",
      "8      9.0          Agra     Achnera    Potato    Desi   FAQ   \n",
      "9     10.0          Agra     Achnera    Potato    Desi   FAQ   \n",
      "10    11.0          Agra     Achnera    Potato    Desi   FAQ   \n",
      "11    12.0          Agra     Achnera    Potato    Desi   FAQ   \n",
      "12    13.0          Agra     Achnera    Potato    Desi   FAQ   \n",
      "13    14.0          Agra     Achnera    Potato    Desi   FAQ   \n",
      "14    15.0          Agra     Achnera    Potato    Desi   FAQ   \n",
      "15    16.0          Agra     Achnera    Potato    Desi   FAQ   \n",
      "16    17.0          Agra     Achnera    Potato    Desi   FAQ   \n",
      "17    18.0          Agra     Achnera    Potato    Desi   FAQ   \n",
      "18    19.0          Agra     Achnera    Potato    Desi   FAQ   \n",
      "19    20.0          Agra     Achnera    Potato    Desi   FAQ   \n",
      "20    21.0          Agra     Achnera    Potato    Desi   FAQ   \n",
      "21    22.0          Agra     Achnera    Potato    Desi   FAQ   \n",
      "22    23.0          Agra     Achnera    Potato    Desi   FAQ   \n",
      "23    24.0          Agra     Achnera    Potato    Desi   FAQ   \n",
      "24    25.0          Agra     Achnera    Potato    Desi   FAQ   \n",
      "25    26.0          Agra     Achnera    Potato    Desi   FAQ   \n",
      "26    27.0          Agra     Achnera    Potato    Desi   FAQ   \n",
      "27    28.0          Agra     Achnera    Potato    Desi   FAQ   \n",
      "28    29.0          Agra     Achnera    Potato    Desi   FAQ   \n",
      "29    30.0          Agra     Achnera    Potato    Desi   FAQ   \n",
      "30    31.0          Agra     Achnera    Potato    Desi   FAQ   \n",
      "31    32.0          Agra     Achnera    Potato    Desi   FAQ   \n",
      "32    33.0          Agra     Achnera    Potato    Desi   FAQ   \n",
      "33    34.0          Agra     Achnera    Potato    Desi   FAQ   \n",
      "34    35.0          Agra     Achnera    Potato    Desi   FAQ   \n",
      "35    36.0          Agra     Achnera    Potato    Desi   FAQ   \n",
      "36    37.0          Agra     Achnera    Potato    Desi   FAQ   \n",
      "37    38.0          Agra     Achnera    Potato    Desi   FAQ   \n",
      "38    39.0          Agra     Achnera    Potato    Desi   FAQ   \n",
      "39    40.0          Agra     Achnera    Potato    Desi   FAQ   \n",
      "40    41.0          Agra     Achnera    Potato    Desi   FAQ   \n",
      "41    42.0          Agra     Achnera    Potato    Desi   FAQ   \n",
      "42    43.0          Agra     Achnera    Potato    Desi   FAQ   \n",
      "43    44.0          Agra     Achnera    Potato    Desi   FAQ   \n",
      "44    45.0          Agra     Achnera    Potato    Desi   FAQ   \n",
      "45    46.0          Agra     Achnera    Potato    Desi   FAQ   \n",
      "46    47.0          Agra     Achnera    Potato    Desi   FAQ   \n",
      "47    48.0          Agra     Achnera    Potato    Desi   FAQ   \n",
      "48    49.0          Agra     Achnera    Potato    Desi   FAQ   \n",
      "49    50.0          Agra     Achnera    Potato    Desi   FAQ   \n",
      "50     NaN           NaN         NaN       NaN     NaN   NaN   \n",
      "\n",
      "    Min Price (Rs./Quintal)  Max Price (Rs./Quintal)  \\\n",
      "0                     900.0                   1000.0   \n",
      "1                     900.0                   1000.0   \n",
      "2                     800.0                    900.0   \n",
      "3                     850.0                    950.0   \n",
      "4                     800.0                    900.0   \n",
      "5                     800.0                    900.0   \n",
      "6                     800.0                    900.0   \n",
      "7                     950.0                   1050.0   \n",
      "8                     820.0                    920.0   \n",
      "9                     800.0                    900.0   \n",
      "10                    800.0                    900.0   \n",
      "11                    950.0                   1050.0   \n",
      "12                   1000.0                   1100.0   \n",
      "13                   1350.0                   1450.0   \n",
      "14                   1400.0                   1500.0   \n",
      "15                   1700.0                   1800.0   \n",
      "16                   1700.0                   1800.0   \n",
      "17                   1650.0                   1750.0   \n",
      "18                   2000.0                   2100.0   \n",
      "19                   2300.0                   2400.0   \n",
      "20                   2350.0                   2450.0   \n",
      "21                   2550.0                   2650.0   \n",
      "22                   2650.0                   2750.0   \n",
      "23                   2750.0                   2850.0   \n",
      "24                   2800.0                   2880.0   \n",
      "25                   2750.0                   2850.0   \n",
      "26                   2840.0                   2940.0   \n",
      "27                   2830.0                   2930.0   \n",
      "28                   3750.0                   3850.0   \n",
      "29                   2820.0                   2900.0   \n",
      "30                   2830.0                   2910.0   \n",
      "31                   2850.0                   2950.0   \n",
      "32                   2850.0                   2950.0   \n",
      "33                   2840.0                   2920.0   \n",
      "34                   2820.0                   2900.0   \n",
      "35                   2840.0                   2920.0   \n",
      "36                   2850.0                   2950.0   \n",
      "37                   2840.0                   2920.0   \n",
      "38                   2800.0                   2880.0   \n",
      "39                   2800.0                   2880.0   \n",
      "40                   2800.0                   2860.0   \n",
      "41                   2800.0                   2860.0   \n",
      "42                   2800.0                   2880.0   \n",
      "43                   2780.0                   2860.0   \n",
      "44                   2750.0                   2850.0   \n",
      "45                   2750.0                   2850.0   \n",
      "46                   2750.0                   2850.0   \n",
      "47                   2780.0                   2860.0   \n",
      "48                   2750.0                   2850.0   \n",
      "49                   2750.0                   2850.0   \n",
      "50                      NaN                      NaN   \n",
      "\n",
      "    Modal Price (Rs./Quintal)   Price Date  \n",
      "0                       950.0  01 Jan 2021  \n",
      "1                       950.0  30 Dec 2020  \n",
      "2                       850.0  29 Dec 2020  \n",
      "3                       900.0  28 Dec 2020  \n",
      "4                       850.0  27 Dec 2020  \n",
      "5                       850.0  26 Dec 2020  \n",
      "6                       850.0  25 Dec 2020  \n",
      "7                      1000.0  23 Dec 2020  \n",
      "8                       870.0  22 Dec 2020  \n",
      "9                       850.0  21 Dec 2020  \n",
      "10                      850.0  20 Dec 2020  \n",
      "11                     1000.0  19 Dec 2020  \n",
      "12                     1050.0  18 Dec 2020  \n",
      "13                     1400.0  16 Dec 2020  \n",
      "14                     1450.0  15 Dec 2020  \n",
      "15                     1750.0  14 Dec 2020  \n",
      "16                     1750.0  13 Dec 2020  \n",
      "17                     1700.0  12 Dec 2020  \n",
      "18                     2050.0  11 Dec 2020  \n",
      "19                     2350.0  09 Dec 2020  \n",
      "20                     2400.0  08 Dec 2020  \n",
      "21                     2600.0  07 Dec 2020  \n",
      "22                     2700.0  06 Dec 2020  \n",
      "23                     2800.0  05 Dec 2020  \n",
      "24                     2840.0  04 Dec 2020  \n",
      "25                     2800.0  02 Dec 2020  \n",
      "26                     2890.0  01 Dec 2020  \n",
      "27                     2880.0  30 Nov 2020  \n",
      "28                     3800.0  29 Nov 2020  \n",
      "29                     2860.0  28 Nov 2020  \n",
      "30                     2870.0  27 Nov 2020  \n",
      "31                     2900.0  25 Nov 2020  \n",
      "32                     2900.0  24 Nov 2020  \n",
      "33                     2880.0  23 Nov 2020  \n",
      "34                     2860.0  22 Nov 2020  \n",
      "35                     2880.0  21 Nov 2020  \n",
      "36                     2900.0  20 Nov 2020  \n",
      "37                     2880.0  18 Nov 2020  \n",
      "38                     2840.0  17 Nov 2020  \n",
      "39                     2840.0  16 Nov 2020  \n",
      "40                     2830.0  15 Nov 2020  \n",
      "41                     2830.0  14 Nov 2020  \n",
      "42                     2840.0  13 Nov 2020  \n",
      "43                     2820.0  11 Nov 2020  \n",
      "44                     2800.0  10 Nov 2020  \n",
      "45                     2800.0  09 Nov 2020  \n",
      "46                     2800.0  08 Nov 2020  \n",
      "47                     2820.0  07 Nov 2020  \n",
      "48                     2800.0  06 Nov 2020  \n",
      "49                     2800.0  04 Nov 2020  \n",
      "50                        NaN          NaN  \n"
     ]
    }
   ],
   "source": [
    "from urllib.request import urlopen\n",
    "import pandas as pd\n",
    "from bs4 import BeautifulSoup\n",
    "url = \"https://agmarknet.gov.in/SearchCmmMkt.aspx?Tx_Commodity=24&Tx_State=UP&Tx_District=1&Tx_Market=0&DateFrom=01-Jan-2020&DateTo=01-Jan-2021&Fr_Date=01-Jan-2020&To_Date=01-Jan-2021&Tx_Trend=0&Tx_CommodityHead=Potato&Tx_StateHead=Uttar+Pradesh&Tx_DistrictHead=Agra&Tx_MarketHead=--Select--\"\n",
    "html = urlopen(url)\n",
    "soup = BeautifulSoup(html, 'lxml')\n",
    "table = soup.find('table')\n",
    "t = pd.read_html(table.prettify())[0]\n",
    "print(t)"
   ]
  },
  {
   "cell_type": "markdown",
   "metadata": {},
   "source": [
    "# Modelling"
   ]
  },
  {
   "cell_type": "markdown",
   "metadata": {},
   "source": [
    "##### Note: For modelling, I directly downloaded the datasheet from the website. More on this, in the word document."
   ]
  },
  {
   "cell_type": "code",
   "execution_count": 28,
   "metadata": {},
   "outputs": [],
   "source": [
    "import pandas as pd\n",
    "import matplotlib.pyplot as plt"
   ]
  },
  {
   "cell_type": "code",
   "execution_count": 24,
   "metadata": {},
   "outputs": [],
   "source": [
    "df = pd.read_excel(r\"C:\\Users\\Sanjeev\\Desktop\\New Microsoft Excel Worksheet.xlsx\")"
   ]
  },
  {
   "cell_type": "code",
   "execution_count": 25,
   "metadata": {
    "scrolled": true
   },
   "outputs": [
    {
     "data": {
      "text/html": [
       "<div>\n",
       "<style scoped>\n",
       "    .dataframe tbody tr th:only-of-type {\n",
       "        vertical-align: middle;\n",
       "    }\n",
       "\n",
       "    .dataframe tbody tr th {\n",
       "        vertical-align: top;\n",
       "    }\n",
       "\n",
       "    .dataframe thead th {\n",
       "        text-align: right;\n",
       "    }\n",
       "</style>\n",
       "<table border=\"1\" class=\"dataframe\">\n",
       "  <thead>\n",
       "    <tr style=\"text-align: right;\">\n",
       "      <th></th>\n",
       "      <th>Sl.no.</th>\n",
       "      <th>District name</th>\n",
       "      <th>Market name</th>\n",
       "      <th>Commodity</th>\n",
       "      <th>Variety</th>\n",
       "      <th>Grade</th>\n",
       "      <th>Min Price (Rs./Quintal)</th>\n",
       "      <th>Max Price (Rs./Quintal)</th>\n",
       "      <th>Modal Price (Rs./Quintal)</th>\n",
       "      <th>Price Date</th>\n",
       "    </tr>\n",
       "  </thead>\n",
       "  <tbody>\n",
       "    <tr>\n",
       "      <th>0</th>\n",
       "      <td>1</td>\n",
       "      <td>Agra</td>\n",
       "      <td>Achnera</td>\n",
       "      <td>Potato</td>\n",
       "      <td>Desi</td>\n",
       "      <td>FAQ</td>\n",
       "      <td>900</td>\n",
       "      <td>1000</td>\n",
       "      <td>950</td>\n",
       "      <td>2020-12-30</td>\n",
       "    </tr>\n",
       "    <tr>\n",
       "      <th>1</th>\n",
       "      <td>2</td>\n",
       "      <td>Agra</td>\n",
       "      <td>Achnera</td>\n",
       "      <td>Potato</td>\n",
       "      <td>Desi</td>\n",
       "      <td>FAQ</td>\n",
       "      <td>800</td>\n",
       "      <td>900</td>\n",
       "      <td>850</td>\n",
       "      <td>2020-12-29</td>\n",
       "    </tr>\n",
       "    <tr>\n",
       "      <th>2</th>\n",
       "      <td>3</td>\n",
       "      <td>Agra</td>\n",
       "      <td>Achnera</td>\n",
       "      <td>Potato</td>\n",
       "      <td>Desi</td>\n",
       "      <td>FAQ</td>\n",
       "      <td>850</td>\n",
       "      <td>950</td>\n",
       "      <td>900</td>\n",
       "      <td>2020-12-28</td>\n",
       "    </tr>\n",
       "    <tr>\n",
       "      <th>3</th>\n",
       "      <td>4</td>\n",
       "      <td>Agra</td>\n",
       "      <td>Achnera</td>\n",
       "      <td>Potato</td>\n",
       "      <td>Desi</td>\n",
       "      <td>FAQ</td>\n",
       "      <td>800</td>\n",
       "      <td>900</td>\n",
       "      <td>850</td>\n",
       "      <td>2020-12-27</td>\n",
       "    </tr>\n",
       "    <tr>\n",
       "      <th>4</th>\n",
       "      <td>5</td>\n",
       "      <td>Agra</td>\n",
       "      <td>Achnera</td>\n",
       "      <td>Potato</td>\n",
       "      <td>Desi</td>\n",
       "      <td>FAQ</td>\n",
       "      <td>800</td>\n",
       "      <td>900</td>\n",
       "      <td>850</td>\n",
       "      <td>2020-12-26</td>\n",
       "    </tr>\n",
       "  </tbody>\n",
       "</table>\n",
       "</div>"
      ],
      "text/plain": [
       "   Sl.no. District name Market name Commodity Variety Grade  \\\n",
       "0       1          Agra     Achnera    Potato    Desi   FAQ   \n",
       "1       2          Agra     Achnera    Potato    Desi   FAQ   \n",
       "2       3          Agra     Achnera    Potato    Desi   FAQ   \n",
       "3       4          Agra     Achnera    Potato    Desi   FAQ   \n",
       "4       5          Agra     Achnera    Potato    Desi   FAQ   \n",
       "\n",
       "   Min Price (Rs./Quintal)  Max Price (Rs./Quintal)  \\\n",
       "0                      900                     1000   \n",
       "1                      800                      900   \n",
       "2                      850                      950   \n",
       "3                      800                      900   \n",
       "4                      800                      900   \n",
       "\n",
       "   Modal Price (Rs./Quintal) Price Date  \n",
       "0                        950 2020-12-30  \n",
       "1                        850 2020-12-29  \n",
       "2                        900 2020-12-28  \n",
       "3                        850 2020-12-27  \n",
       "4                        850 2020-12-26  "
      ]
     },
     "execution_count": 25,
     "metadata": {},
     "output_type": "execute_result"
    }
   ],
   "source": [
    "df.head()"
   ]
  },
  {
   "cell_type": "code",
   "execution_count": 38,
   "metadata": {
    "scrolled": true
   },
   "outputs": [
    {
     "data": {
      "text/html": [
       "<div>\n",
       "<style scoped>\n",
       "    .dataframe tbody tr th:only-of-type {\n",
       "        vertical-align: middle;\n",
       "    }\n",
       "\n",
       "    .dataframe tbody tr th {\n",
       "        vertical-align: top;\n",
       "    }\n",
       "\n",
       "    .dataframe thead th {\n",
       "        text-align: right;\n",
       "    }\n",
       "</style>\n",
       "<table border=\"1\" class=\"dataframe\">\n",
       "  <thead>\n",
       "    <tr style=\"text-align: right;\">\n",
       "      <th></th>\n",
       "      <th>Sl.no.</th>\n",
       "      <th>District name</th>\n",
       "      <th>Market name</th>\n",
       "      <th>Commodity</th>\n",
       "      <th>Variety</th>\n",
       "      <th>Grade</th>\n",
       "      <th>Min Price (Rs./Quintal)</th>\n",
       "      <th>Max Price (Rs./Quintal)</th>\n",
       "      <th>Modal Price (Rs./Quintal)</th>\n",
       "      <th>Price Date</th>\n",
       "    </tr>\n",
       "  </thead>\n",
       "  <tbody>\n",
       "    <tr>\n",
       "      <th>1826</th>\n",
       "      <td>1827</td>\n",
       "      <td>Agra</td>\n",
       "      <td>Samsabad</td>\n",
       "      <td>Potato</td>\n",
       "      <td>Local</td>\n",
       "      <td>FAQ</td>\n",
       "      <td>1100</td>\n",
       "      <td>1300</td>\n",
       "      <td>1200</td>\n",
       "      <td>2020-01-01</td>\n",
       "    </tr>\n",
       "    <tr>\n",
       "      <th>305</th>\n",
       "      <td>306</td>\n",
       "      <td>Agra</td>\n",
       "      <td>Achnera</td>\n",
       "      <td>Potato</td>\n",
       "      <td>Desi</td>\n",
       "      <td>FAQ</td>\n",
       "      <td>1300</td>\n",
       "      <td>1400</td>\n",
       "      <td>1350</td>\n",
       "      <td>2020-01-01</td>\n",
       "    </tr>\n",
       "    <tr>\n",
       "      <th>1325</th>\n",
       "      <td>1326</td>\n",
       "      <td>Agra</td>\n",
       "      <td>Jagnair</td>\n",
       "      <td>Potato</td>\n",
       "      <td>Desi</td>\n",
       "      <td>FAQ</td>\n",
       "      <td>1250</td>\n",
       "      <td>1350</td>\n",
       "      <td>1300</td>\n",
       "      <td>2020-01-01</td>\n",
       "    </tr>\n",
       "    <tr>\n",
       "      <th>1658</th>\n",
       "      <td>1659</td>\n",
       "      <td>Agra</td>\n",
       "      <td>Khairagarh</td>\n",
       "      <td>Potato</td>\n",
       "      <td>Desi</td>\n",
       "      <td>FAQ</td>\n",
       "      <td>1200</td>\n",
       "      <td>1300</td>\n",
       "      <td>1250</td>\n",
       "      <td>2020-01-01</td>\n",
       "    </tr>\n",
       "    <tr>\n",
       "      <th>1138</th>\n",
       "      <td>1139</td>\n",
       "      <td>Agra</td>\n",
       "      <td>Fatehpur Sikri</td>\n",
       "      <td>Potato</td>\n",
       "      <td>Local</td>\n",
       "      <td>FAQ</td>\n",
       "      <td>1400</td>\n",
       "      <td>1520</td>\n",
       "      <td>1455</td>\n",
       "      <td>2020-01-01</td>\n",
       "    </tr>\n",
       "    <tr>\n",
       "      <th>...</th>\n",
       "      <td>...</td>\n",
       "      <td>...</td>\n",
       "      <td>...</td>\n",
       "      <td>...</td>\n",
       "      <td>...</td>\n",
       "      <td>...</td>\n",
       "      <td>...</td>\n",
       "      <td>...</td>\n",
       "      <td>...</td>\n",
       "      <td>...</td>\n",
       "    </tr>\n",
       "    <tr>\n",
       "      <th>1472</th>\n",
       "      <td>1473</td>\n",
       "      <td>Agra</td>\n",
       "      <td>Khairagarh</td>\n",
       "      <td>Potato</td>\n",
       "      <td>Desi</td>\n",
       "      <td>FAQ</td>\n",
       "      <td>1100</td>\n",
       "      <td>1200</td>\n",
       "      <td>1150</td>\n",
       "      <td>2020-12-31</td>\n",
       "    </tr>\n",
       "    <tr>\n",
       "      <th>591</th>\n",
       "      <td>592</td>\n",
       "      <td>Agra</td>\n",
       "      <td>Fatehabad</td>\n",
       "      <td>Potato</td>\n",
       "      <td>Desi</td>\n",
       "      <td>FAQ</td>\n",
       "      <td>700</td>\n",
       "      <td>800</td>\n",
       "      <td>750</td>\n",
       "      <td>2020-12-31</td>\n",
       "    </tr>\n",
       "    <tr>\n",
       "      <th>306</th>\n",
       "      <td>307</td>\n",
       "      <td>Agra</td>\n",
       "      <td>Agra</td>\n",
       "      <td>Potato</td>\n",
       "      <td>Desi</td>\n",
       "      <td>FAQ</td>\n",
       "      <td>800</td>\n",
       "      <td>1100</td>\n",
       "      <td>960</td>\n",
       "      <td>2020-12-31</td>\n",
       "    </tr>\n",
       "    <tr>\n",
       "      <th>849</th>\n",
       "      <td>850</td>\n",
       "      <td>Agra</td>\n",
       "      <td>Fatehpur Sikri</td>\n",
       "      <td>Potato</td>\n",
       "      <td>Local</td>\n",
       "      <td>FAQ</td>\n",
       "      <td>900</td>\n",
       "      <td>1100</td>\n",
       "      <td>1015</td>\n",
       "      <td>2020-12-31</td>\n",
       "    </tr>\n",
       "    <tr>\n",
       "      <th>1139</th>\n",
       "      <td>1140</td>\n",
       "      <td>Agra</td>\n",
       "      <td>Jagnair</td>\n",
       "      <td>Potato</td>\n",
       "      <td>Desi</td>\n",
       "      <td>FAQ</td>\n",
       "      <td>750</td>\n",
       "      <td>850</td>\n",
       "      <td>800</td>\n",
       "      <td>2020-12-31</td>\n",
       "    </tr>\n",
       "  </tbody>\n",
       "</table>\n",
       "<p>1827 rows × 10 columns</p>\n",
       "</div>"
      ],
      "text/plain": [
       "      Sl.no. District name     Market name Commodity Variety Grade  \\\n",
       "1826    1827          Agra        Samsabad    Potato   Local   FAQ   \n",
       "305      306          Agra         Achnera    Potato    Desi   FAQ   \n",
       "1325    1326          Agra         Jagnair    Potato    Desi   FAQ   \n",
       "1658    1659          Agra      Khairagarh    Potato    Desi   FAQ   \n",
       "1138    1139          Agra  Fatehpur Sikri    Potato   Local   FAQ   \n",
       "...      ...           ...             ...       ...     ...   ...   \n",
       "1472    1473          Agra      Khairagarh    Potato    Desi   FAQ   \n",
       "591      592          Agra       Fatehabad    Potato    Desi   FAQ   \n",
       "306      307          Agra            Agra    Potato    Desi   FAQ   \n",
       "849      850          Agra  Fatehpur Sikri    Potato   Local   FAQ   \n",
       "1139    1140          Agra         Jagnair    Potato    Desi   FAQ   \n",
       "\n",
       "      Min Price (Rs./Quintal)  Max Price (Rs./Quintal)  \\\n",
       "1826                     1100                     1300   \n",
       "305                      1300                     1400   \n",
       "1325                     1250                     1350   \n",
       "1658                     1200                     1300   \n",
       "1138                     1400                     1520   \n",
       "...                       ...                      ...   \n",
       "1472                     1100                     1200   \n",
       "591                       700                      800   \n",
       "306                       800                     1100   \n",
       "849                       900                     1100   \n",
       "1139                      750                      850   \n",
       "\n",
       "      Modal Price (Rs./Quintal) Price Date  \n",
       "1826                       1200 2020-01-01  \n",
       "305                        1350 2020-01-01  \n",
       "1325                       1300 2020-01-01  \n",
       "1658                       1250 2020-01-01  \n",
       "1138                       1455 2020-01-01  \n",
       "...                         ...        ...  \n",
       "1472                       1150 2020-12-31  \n",
       "591                         750 2020-12-31  \n",
       "306                         960 2020-12-31  \n",
       "849                        1015 2020-12-31  \n",
       "1139                        800 2020-12-31  \n",
       "\n",
       "[1827 rows x 10 columns]"
      ]
     },
     "execution_count": 38,
     "metadata": {},
     "output_type": "execute_result"
    }
   ],
   "source": [
    "df.sort_values(by = 'Price Date')"
   ]
  },
  {
   "cell_type": "markdown",
   "metadata": {},
   "source": [
    "### Finding major markets"
   ]
  },
  {
   "cell_type": "code",
   "execution_count": 26,
   "metadata": {},
   "outputs": [
    {
     "data": {
      "text/plain": [
       "Achnera           306\n",
       "Fatehpur Sikri    290\n",
       "Agra              285\n",
       "Fatehabad         258\n",
       "Khairagarh        187\n",
       "Jagnair           187\n",
       "Samsabad          168\n",
       "Jarar             146\n",
       "Name: Market name, dtype: int64"
      ]
     },
     "execution_count": 26,
     "metadata": {},
     "output_type": "execute_result"
    }
   ],
   "source": [
    "df['Market name'].value_counts()"
   ]
  },
  {
   "cell_type": "markdown",
   "metadata": {},
   "source": [
    "#### We see that \"Achnera\", \"Fatehpur Sikri\", \"Agra\", and \"Fatehabad\" are the major markets"
   ]
  },
  {
   "cell_type": "markdown",
   "metadata": {},
   "source": [
    "## Plotting graphs"
   ]
  },
  {
   "cell_type": "code",
   "execution_count": 29,
   "metadata": {
    "scrolled": true
   },
   "outputs": [
    {
     "data": {
      "text/plain": [
       "[<matplotlib.lines.Line2D at 0x18b058e2940>]"
      ]
     },
     "execution_count": 29,
     "metadata": {},
     "output_type": "execute_result"
    },
    {
     "data": {
      "image/png": "[encoded data removed]",
      "text/plain": [
       "<Figure size 432x288 with 1 Axes>"
      ]
     },
     "metadata": {
      "needs_background": "light"
     },
     "output_type": "display_data"
    }
   ],
   "source": [
    "plt.plot(df['Modal Price (Rs./Quintal)'][df['Market name']==\"Achnera\"])"
   ]
  },
  {
   "cell_type": "code",
   "execution_count": 30,
   "metadata": {},
   "outputs": [
    {
     "data": {
      "text/plain": [
       "[<matplotlib.lines.Line2D at 0x18b089b30d0>]"
      ]
     },
     "execution_count": 30,
     "metadata": {},
     "output_type": "execute_result"
    },
    {
     "data": {
      "image/png": "[encoded data removed]",
      "text/plain": [
       "<Figure size 432x288 with 1 Axes>"
      ]
     },
     "metadata": {
      "needs_background": "light"
     },
     "output_type": "display_data"
    }
   ],
   "source": [
    "plt.plot(df['Modal Price (Rs./Quintal)'][df['Market name']==\"Fatehpur Sikri\"])"
   ]
  },
  {
   "cell_type": "code",
   "execution_count": 31,
   "metadata": {},
   "outputs": [
    {
     "data": {
      "text/plain": [
       "[<matplotlib.lines.Line2D at 0x18b08a13070>]"
      ]
     },
     "execution_count": 31,
     "metadata": {},
     "output_type": "execute_result"
    },
    {
     "data": {
      "image/png": "[encoded data removed]",
      "text/plain": [
       "<Figure size 432x288 with 1 Axes>"
      ]
     },
     "metadata": {
      "needs_background": "light"
     },
     "output_type": "display_data"
    }
   ],
   "source": [
    "plt.plot(df['Modal Price (Rs./Quintal)'][df['Market name']==\"Agra\"])"
   ]
  },
  {
   "cell_type": "code",
   "execution_count": 37,
   "metadata": {},
   "outputs": [
    {
     "data": {
      "text/plain": [
       "3050"
      ]
     },
     "execution_count": 37,
     "metadata": {},
     "output_type": "execute_result"
    }
   ],
   "source": [
    "df['Modal Price (Rs./Quintal)'][df['Market name']==\"Agra\"].max()"
   ]
  },
  {
   "cell_type": "code",
   "execution_count": 53,
   "metadata": {},
   "outputs": [
    {
     "data": {
      "text/plain": [
       "2960"
      ]
     },
     "execution_count": 53,
     "metadata": {},
     "output_type": "execute_result"
    }
   ],
   "source": [
    "df['Modal Price (Rs./Quintal)'][df['Market name']==\"Fatehpur Sikri\"].max()"
   ]
  },
  {
   "cell_type": "code",
   "execution_count": 54,
   "metadata": {},
   "outputs": [
    {
     "data": {
      "text/plain": [
       "3800"
      ]
     },
     "execution_count": 54,
     "metadata": {},
     "output_type": "execute_result"
    }
   ],
   "source": [
    "df['Modal Price (Rs./Quintal)'][df['Market name']==\"Achnera\"].max()"
   ]
  },
  {
   "cell_type": "code",
   "execution_count": 51,
   "metadata": {},
   "outputs": [
    {
     "data": {
      "text/plain": [
       "Agra    1827\n",
       "Name: District name, dtype: int64"
      ]
     },
     "execution_count": 51,
     "metadata": {},
     "output_type": "execute_result"
    }
   ],
   "source": [
    "df['District name'].value_counts()"
   ]
  },
  {
   "cell_type": "code",
   "execution_count": 47,
   "metadata": {},
   "outputs": [
    {
     "data": {
      "text/plain": [
       "Potato    1827\n",
       "Name: Commodity, dtype: int64"
      ]
     },
     "execution_count": 47,
     "metadata": {},
     "output_type": "execute_result"
    }
   ],
   "source": [
    "df['Commodity'].value_counts()"
   ]
  },
  {
   "cell_type": "code",
   "execution_count": 48,
   "metadata": {},
   "outputs": [
    {
     "data": {
      "text/plain": [
       "Desi      1367\n",
       "Local      458\n",
       "Potato       1\n",
       "Other        1\n",
       "Name: Variety, dtype: int64"
      ]
     },
     "execution_count": 48,
     "metadata": {},
     "output_type": "execute_result"
    }
   ],
   "source": [
    "df['Variety'].value_counts()"
   ]
  },
  {
   "cell_type": "code",
   "execution_count": 49,
   "metadata": {},
   "outputs": [
    {
     "data": {
      "text/plain": [
       "FAQ    1827\n",
       "Name: Grade, dtype: int64"
      ]
     },
     "execution_count": 49,
     "metadata": {},
     "output_type": "execute_result"
    }
   ],
   "source": [
    "df['Grade'].value_counts()"
   ]
  }
 ],
 "metadata": {
  "kernelspec": {
   "display_name": "Python 3",
   "language": "python",
   "name": "python3"
  },
  "language_info": {
   "codemirror_mode": {
    "name": "ipython",
    "version": 3
   },
   "file_extension": ".py",
   "mimetype": "text/x-python",
   "name": "python",
   "nbconvert_exporter": "python",
   "pygments_lexer": "ipython3",
   "version": "3.8.3"
  }
 },
 "nbformat": 4,
 "nbformat_minor": 4
}
